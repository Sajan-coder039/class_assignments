{
 "cells": [
  {
   "cell_type": "code",
   "execution_count": 1,
   "id": "55b27878",
   "metadata": {},
   "outputs": [],
   "source": [
    "import time\n",
    "import threading"
   ]
  },
  {
   "cell_type": "code",
   "execution_count": 1,
   "id": "200c05c1",
   "metadata": {},
   "outputs": [
    {
     "name": "stdout",
     "output_type": "stream",
     "text": [
      "Requirement already satisfied: ipykernel in ./three/lib/python3.12/site-packages (from -r requirements.txt (line 1)) (6.29.5)\n",
      "Requirement already satisfied: bs4 in ./three/lib/python3.12/site-packages (from -r requirements.txt (line 2)) (0.0.2)\n",
      "Requirement already satisfied: requests in ./three/lib/python3.12/site-packages (from -r requirements.txt (line 3)) (2.32.3)\n",
      "Requirement already satisfied: flask in ./three/lib/python3.12/site-packages (from -r requirements.txt (line 4)) (3.1.1)\n",
      "Requirement already satisfied: pandas in ./three/lib/python3.12/site-packages (from -r requirements.txt (line 5)) (2.2.3)\n",
      "Requirement already satisfied: numpy in ./three/lib/python3.12/site-packages (from -r requirements.txt (line 6)) (2.2.6)\n",
      "Requirement already satisfied: comm>=0.1.1 in ./three/lib/python3.12/site-packages (from ipykernel->-r requirements.txt (line 1)) (0.2.2)\n",
      "Requirement already satisfied: debugpy>=1.6.5 in ./three/lib/python3.12/site-packages (from ipykernel->-r requirements.txt (line 1)) (1.8.14)\n",
      "Requirement already satisfied: ipython>=7.23.1 in ./three/lib/python3.12/site-packages (from ipykernel->-r requirements.txt (line 1)) (9.2.0)\n",
      "Requirement already satisfied: jupyter-client>=6.1.12 in ./three/lib/python3.12/site-packages (from ipykernel->-r requirements.txt (line 1)) (8.6.3)\n",
      "Requirement already satisfied: jupyter-core!=5.0.*,>=4.12 in ./three/lib/python3.12/site-packages (from ipykernel->-r requirements.txt (line 1)) (5.7.2)\n",
      "Requirement already satisfied: matplotlib-inline>=0.1 in ./three/lib/python3.12/site-packages (from ipykernel->-r requirements.txt (line 1)) (0.1.7)\n",
      "Requirement already satisfied: nest-asyncio in ./three/lib/python3.12/site-packages (from ipykernel->-r requirements.txt (line 1)) (1.6.0)\n",
      "Requirement already satisfied: packaging in ./three/lib/python3.12/site-packages (from ipykernel->-r requirements.txt (line 1)) (25.0)\n",
      "Requirement already satisfied: psutil in ./three/lib/python3.12/site-packages (from ipykernel->-r requirements.txt (line 1)) (7.0.0)\n",
      "Requirement already satisfied: pyzmq>=24 in ./three/lib/python3.12/site-packages (from ipykernel->-r requirements.txt (line 1)) (26.4.0)\n",
      "Requirement already satisfied: tornado>=6.1 in ./three/lib/python3.12/site-packages (from ipykernel->-r requirements.txt (line 1)) (6.5)\n",
      "Requirement already satisfied: traitlets>=5.4.0 in ./three/lib/python3.12/site-packages (from ipykernel->-r requirements.txt (line 1)) (5.14.3)\n",
      "Requirement already satisfied: beautifulsoup4 in ./three/lib/python3.12/site-packages (from bs4->-r requirements.txt (line 2)) (4.13.4)\n",
      "Requirement already satisfied: charset-normalizer<4,>=2 in ./three/lib/python3.12/site-packages (from requests->-r requirements.txt (line 3)) (3.4.2)\n",
      "Requirement already satisfied: idna<4,>=2.5 in ./three/lib/python3.12/site-packages (from requests->-r requirements.txt (line 3)) (3.10)\n",
      "Requirement already satisfied: urllib3<3,>=1.21.1 in ./three/lib/python3.12/site-packages (from requests->-r requirements.txt (line 3)) (2.4.0)\n",
      "Requirement already satisfied: certifi>=2017.4.17 in ./three/lib/python3.12/site-packages (from requests->-r requirements.txt (line 3)) (2025.4.26)\n",
      "Requirement already satisfied: blinker>=1.9.0 in ./three/lib/python3.12/site-packages (from flask->-r requirements.txt (line 4)) (1.9.0)\n",
      "Requirement already satisfied: click>=8.1.3 in ./three/lib/python3.12/site-packages (from flask->-r requirements.txt (line 4)) (8.2.1)\n",
      "Requirement already satisfied: itsdangerous>=2.2.0 in ./three/lib/python3.12/site-packages (from flask->-r requirements.txt (line 4)) (2.2.0)\n",
      "Requirement already satisfied: jinja2>=3.1.2 in ./three/lib/python3.12/site-packages (from flask->-r requirements.txt (line 4)) (3.1.6)\n",
      "Requirement already satisfied: markupsafe>=2.1.1 in ./three/lib/python3.12/site-packages (from flask->-r requirements.txt (line 4)) (3.0.2)\n",
      "Requirement already satisfied: werkzeug>=3.1.0 in ./three/lib/python3.12/site-packages (from flask->-r requirements.txt (line 4)) (3.1.3)\n",
      "Requirement already satisfied: python-dateutil>=2.8.2 in ./three/lib/python3.12/site-packages (from pandas->-r requirements.txt (line 5)) (2.9.0.post0)\n",
      "Requirement already satisfied: pytz>=2020.1 in ./three/lib/python3.12/site-packages (from pandas->-r requirements.txt (line 5)) (2025.2)\n",
      "Requirement already satisfied: tzdata>=2022.7 in ./three/lib/python3.12/site-packages (from pandas->-r requirements.txt (line 5)) (2025.2)\n",
      "Requirement already satisfied: decorator in ./three/lib/python3.12/site-packages (from ipython>=7.23.1->ipykernel->-r requirements.txt (line 1)) (5.2.1)\n",
      "Requirement already satisfied: ipython-pygments-lexers in ./three/lib/python3.12/site-packages (from ipython>=7.23.1->ipykernel->-r requirements.txt (line 1)) (1.1.1)\n",
      "Requirement already satisfied: jedi>=0.16 in ./three/lib/python3.12/site-packages (from ipython>=7.23.1->ipykernel->-r requirements.txt (line 1)) (0.19.2)\n",
      "Requirement already satisfied: pexpect>4.3 in ./three/lib/python3.12/site-packages (from ipython>=7.23.1->ipykernel->-r requirements.txt (line 1)) (4.9.0)\n",
      "Requirement already satisfied: prompt_toolkit<3.1.0,>=3.0.41 in ./three/lib/python3.12/site-packages (from ipython>=7.23.1->ipykernel->-r requirements.txt (line 1)) (3.0.51)\n",
      "Requirement already satisfied: pygments>=2.4.0 in ./three/lib/python3.12/site-packages (from ipython>=7.23.1->ipykernel->-r requirements.txt (line 1)) (2.19.1)\n",
      "Requirement already satisfied: stack_data in ./three/lib/python3.12/site-packages (from ipython>=7.23.1->ipykernel->-r requirements.txt (line 1)) (0.6.3)\n",
      "Requirement already satisfied: platformdirs>=2.5 in ./three/lib/python3.12/site-packages (from jupyter-core!=5.0.*,>=4.12->ipykernel->-r requirements.txt (line 1)) (4.3.8)\n",
      "Requirement already satisfied: six>=1.5 in ./three/lib/python3.12/site-packages (from python-dateutil>=2.8.2->pandas->-r requirements.txt (line 5)) (1.17.0)\n",
      "Requirement already satisfied: soupsieve>1.2 in ./three/lib/python3.12/site-packages (from beautifulsoup4->bs4->-r requirements.txt (line 2)) (2.7)\n",
      "Requirement already satisfied: typing-extensions>=4.0.0 in ./three/lib/python3.12/site-packages (from beautifulsoup4->bs4->-r requirements.txt (line 2)) (4.13.2)\n",
      "Requirement already satisfied: parso<0.9.0,>=0.8.4 in ./three/lib/python3.12/site-packages (from jedi>=0.16->ipython>=7.23.1->ipykernel->-r requirements.txt (line 1)) (0.8.4)\n",
      "Requirement already satisfied: ptyprocess>=0.5 in ./three/lib/python3.12/site-packages (from pexpect>4.3->ipython>=7.23.1->ipykernel->-r requirements.txt (line 1)) (0.7.0)\n",
      "Requirement already satisfied: wcwidth in ./three/lib/python3.12/site-packages (from prompt_toolkit<3.1.0,>=3.0.41->ipython>=7.23.1->ipykernel->-r requirements.txt (line 1)) (0.2.13)\n",
      "Requirement already satisfied: executing>=1.2.0 in ./three/lib/python3.12/site-packages (from stack_data->ipython>=7.23.1->ipykernel->-r requirements.txt (line 1)) (2.2.0)\n",
      "Requirement already satisfied: asttokens>=2.1.0 in ./three/lib/python3.12/site-packages (from stack_data->ipython>=7.23.1->ipykernel->-r requirements.txt (line 1)) (3.0.0)\n",
      "Requirement already satisfied: pure-eval in ./three/lib/python3.12/site-packages (from stack_data->ipython>=7.23.1->ipykernel->-r requirements.txt (line 1)) (0.2.3)\n"
     ]
    }
   ],
   "source": [
    "!pip install -r requirements.txt"
   ]
  },
  {
   "cell_type": "code",
   "execution_count": null,
   "id": "2f01c382",
   "metadata": {},
   "outputs": [],
   "source": [
    "import threading\n",
    "import requests\n",
    "from bs4 import BeautifulSoup\n",
    "\n",
    "urls=[\n",
    "\"https://en.wikipedia.org/wiki/Main_Page\",\n",
    "\"https://en.wikipedia.org/wiki/Artificial_intelligence\",\n",
    "\"https://en.wikipedia.org/wiki/Nepal\"]\n",
    "\n",
    "\n",
    "def fetch(urle):\n",
    "    response=requests.get(url=urle)\n",
    "    soup=BeautifulSoup(response.content,\"html.parser\")\n",
    "    print(f\"the fetched data length : {len(soup.text)} from {urle}\")\n",
    "\n",
    "threads=[]\n",
    "\n",
    "for url in urls:\n",
    "    thread=threading.Thread(target=fetch)\n",
    "    threads.append(thread)\n",
    "    thread.start()\n",
    "\n",
    "for thread in threads:\n",
    "    thread.join()\n",
    "\n",
    "print(f\"all web pages have been parsed ??\")\n",
    "    "
   ]
  },
  {
   "cell_type": "code",
   "execution_count": 1,
   "id": "238cf962",
   "metadata": {},
   "outputs": [
    {
     "name": "stdout",
     "output_type": "stream",
     "text": [
      "Requirement already satisfied: ipykernel in ./three/lib/python3.12/site-packages (from -r requirements.txt (line 1)) (6.29.5)\n",
      "Requirement already satisfied: bs4 in ./three/lib/python3.12/site-packages (from -r requirements.txt (line 2)) (0.0.2)\n",
      "Requirement already satisfied: requests in ./three/lib/python3.12/site-packages (from -r requirements.txt (line 3)) (2.32.3)\n",
      "Collecting flask (from -r requirements.txt (line 4))\n",
      "  Downloading flask-3.1.1-py3-none-any.whl.metadata (3.0 kB)\n",
      "Requirement already satisfied: comm>=0.1.1 in ./three/lib/python3.12/site-packages (from ipykernel->-r requirements.txt (line 1)) (0.2.2)\n",
      "Requirement already satisfied: debugpy>=1.6.5 in ./three/lib/python3.12/site-packages (from ipykernel->-r requirements.txt (line 1)) (1.8.14)\n",
      "Requirement already satisfied: ipython>=7.23.1 in ./three/lib/python3.12/site-packages (from ipykernel->-r requirements.txt (line 1)) (9.2.0)\n",
      "Requirement already satisfied: jupyter-client>=6.1.12 in ./three/lib/python3.12/site-packages (from ipykernel->-r requirements.txt (line 1)) (8.6.3)\n",
      "Requirement already satisfied: jupyter-core!=5.0.*,>=4.12 in ./three/lib/python3.12/site-packages (from ipykernel->-r requirements.txt (line 1)) (5.7.2)\n",
      "Requirement already satisfied: matplotlib-inline>=0.1 in ./three/lib/python3.12/site-packages (from ipykernel->-r requirements.txt (line 1)) (0.1.7)\n",
      "Requirement already satisfied: nest-asyncio in ./three/lib/python3.12/site-packages (from ipykernel->-r requirements.txt (line 1)) (1.6.0)\n",
      "Requirement already satisfied: packaging in ./three/lib/python3.12/site-packages (from ipykernel->-r requirements.txt (line 1)) (25.0)\n",
      "Requirement already satisfied: psutil in ./three/lib/python3.12/site-packages (from ipykernel->-r requirements.txt (line 1)) (7.0.0)\n",
      "Requirement already satisfied: pyzmq>=24 in ./three/lib/python3.12/site-packages (from ipykernel->-r requirements.txt (line 1)) (26.4.0)\n",
      "Requirement already satisfied: tornado>=6.1 in ./three/lib/python3.12/site-packages (from ipykernel->-r requirements.txt (line 1)) (6.5)\n",
      "Requirement already satisfied: traitlets>=5.4.0 in ./three/lib/python3.12/site-packages (from ipykernel->-r requirements.txt (line 1)) (5.14.3)\n",
      "Requirement already satisfied: beautifulsoup4 in ./three/lib/python3.12/site-packages (from bs4->-r requirements.txt (line 2)) (4.13.4)\n",
      "Requirement already satisfied: charset-normalizer<4,>=2 in ./three/lib/python3.12/site-packages (from requests->-r requirements.txt (line 3)) (3.4.2)\n",
      "Requirement already satisfied: idna<4,>=2.5 in ./three/lib/python3.12/site-packages (from requests->-r requirements.txt (line 3)) (3.10)\n",
      "Requirement already satisfied: urllib3<3,>=1.21.1 in ./three/lib/python3.12/site-packages (from requests->-r requirements.txt (line 3)) (2.4.0)\n",
      "Requirement already satisfied: certifi>=2017.4.17 in ./three/lib/python3.12/site-packages (from requests->-r requirements.txt (line 3)) (2025.4.26)\n",
      "Collecting blinker>=1.9.0 (from flask->-r requirements.txt (line 4))\n",
      "  Using cached blinker-1.9.0-py3-none-any.whl.metadata (1.6 kB)\n",
      "Collecting click>=8.1.3 (from flask->-r requirements.txt (line 4))\n",
      "  Downloading click-8.2.1-py3-none-any.whl.metadata (2.5 kB)\n",
      "Collecting itsdangerous>=2.2.0 (from flask->-r requirements.txt (line 4))\n",
      "  Using cached itsdangerous-2.2.0-py3-none-any.whl.metadata (1.9 kB)\n",
      "Collecting jinja2>=3.1.2 (from flask->-r requirements.txt (line 4))\n",
      "  Using cached jinja2-3.1.6-py3-none-any.whl.metadata (2.9 kB)\n",
      "Collecting markupsafe>=2.1.1 (from flask->-r requirements.txt (line 4))\n",
      "  Using cached MarkupSafe-3.0.2-cp312-cp312-manylinux_2_17_x86_64.manylinux2014_x86_64.whl.metadata (4.0 kB)\n",
      "Collecting werkzeug>=3.1.0 (from flask->-r requirements.txt (line 4))\n",
      "  Using cached werkzeug-3.1.3-py3-none-any.whl.metadata (3.7 kB)\n",
      "Requirement already satisfied: decorator in ./three/lib/python3.12/site-packages (from ipython>=7.23.1->ipykernel->-r requirements.txt (line 1)) (5.2.1)\n",
      "Requirement already satisfied: ipython-pygments-lexers in ./three/lib/python3.12/site-packages (from ipython>=7.23.1->ipykernel->-r requirements.txt (line 1)) (1.1.1)\n",
      "Requirement already satisfied: jedi>=0.16 in ./three/lib/python3.12/site-packages (from ipython>=7.23.1->ipykernel->-r requirements.txt (line 1)) (0.19.2)\n",
      "Requirement already satisfied: pexpect>4.3 in ./three/lib/python3.12/site-packages (from ipython>=7.23.1->ipykernel->-r requirements.txt (line 1)) (4.9.0)\n",
      "Requirement already satisfied: prompt_toolkit<3.1.0,>=3.0.41 in ./three/lib/python3.12/site-packages (from ipython>=7.23.1->ipykernel->-r requirements.txt (line 1)) (3.0.51)\n",
      "Requirement already satisfied: pygments>=2.4.0 in ./three/lib/python3.12/site-packages (from ipython>=7.23.1->ipykernel->-r requirements.txt (line 1)) (2.19.1)\n",
      "Requirement already satisfied: stack_data in ./three/lib/python3.12/site-packages (from ipython>=7.23.1->ipykernel->-r requirements.txt (line 1)) (0.6.3)\n",
      "Requirement already satisfied: python-dateutil>=2.8.2 in ./three/lib/python3.12/site-packages (from jupyter-client>=6.1.12->ipykernel->-r requirements.txt (line 1)) (2.9.0.post0)\n",
      "Requirement already satisfied: platformdirs>=2.5 in ./three/lib/python3.12/site-packages (from jupyter-core!=5.0.*,>=4.12->ipykernel->-r requirements.txt (line 1)) (4.3.8)\n",
      "Requirement already satisfied: soupsieve>1.2 in ./three/lib/python3.12/site-packages (from beautifulsoup4->bs4->-r requirements.txt (line 2)) (2.7)\n",
      "Requirement already satisfied: typing-extensions>=4.0.0 in ./three/lib/python3.12/site-packages (from beautifulsoup4->bs4->-r requirements.txt (line 2)) (4.13.2)\n",
      "Requirement already satisfied: parso<0.9.0,>=0.8.4 in ./three/lib/python3.12/site-packages (from jedi>=0.16->ipython>=7.23.1->ipykernel->-r requirements.txt (line 1)) (0.8.4)\n",
      "Requirement already satisfied: ptyprocess>=0.5 in ./three/lib/python3.12/site-packages (from pexpect>4.3->ipython>=7.23.1->ipykernel->-r requirements.txt (line 1)) (0.7.0)\n",
      "Requirement already satisfied: wcwidth in ./three/lib/python3.12/site-packages (from prompt_toolkit<3.1.0,>=3.0.41->ipython>=7.23.1->ipykernel->-r requirements.txt (line 1)) (0.2.13)\n",
      "Requirement already satisfied: six>=1.5 in ./three/lib/python3.12/site-packages (from python-dateutil>=2.8.2->jupyter-client>=6.1.12->ipykernel->-r requirements.txt (line 1)) (1.17.0)\n",
      "Requirement already satisfied: executing>=1.2.0 in ./three/lib/python3.12/site-packages (from stack_data->ipython>=7.23.1->ipykernel->-r requirements.txt (line 1)) (2.2.0)\n",
      "Requirement already satisfied: asttokens>=2.1.0 in ./three/lib/python3.12/site-packages (from stack_data->ipython>=7.23.1->ipykernel->-r requirements.txt (line 1)) (3.0.0)\n",
      "Requirement already satisfied: pure-eval in ./three/lib/python3.12/site-packages (from stack_data->ipython>=7.23.1->ipykernel->-r requirements.txt (line 1)) (0.2.3)\n",
      "Downloading flask-3.1.1-py3-none-any.whl (103 kB)\n",
      "\u001b[2K   \u001b[90m━━━━━━━━━━━━━━━━━━━━━━━━━━━━━━━━━━━━━━━\u001b[0m \u001b[32m103.3/103.3 kB\u001b[0m \u001b[31m371.7 kB/s\u001b[0m eta \u001b[36m0:00:00\u001b[0ma \u001b[36m0:00:01\u001b[0m\n",
      "\u001b[?25hUsing cached blinker-1.9.0-py3-none-any.whl (8.5 kB)\n",
      "Downloading click-8.2.1-py3-none-any.whl (102 kB)\n",
      "\u001b[2K   \u001b[90m━━━━━━━━━━━━━━━━━━━━━━━━━━━━━━━━━━━━━━━━\u001b[0m \u001b[32m102.2/102.2 kB\u001b[0m \u001b[31m63.5 kB/s\u001b[0m eta \u001b[36m0:00:00\u001b[0m \u001b[36m0:00:01\u001b[0m\n",
      "\u001b[?25hUsing cached itsdangerous-2.2.0-py3-none-any.whl (16 kB)\n",
      "Using cached jinja2-3.1.6-py3-none-any.whl (134 kB)\n",
      "Using cached MarkupSafe-3.0.2-cp312-cp312-manylinux_2_17_x86_64.manylinux2014_x86_64.whl (23 kB)\n",
      "Using cached werkzeug-3.1.3-py3-none-any.whl (224 kB)\n",
      "Installing collected packages: markupsafe, itsdangerous, click, blinker, werkzeug, jinja2, flask\n",
      "Successfully installed blinker-1.9.0 click-8.2.1 flask-3.1.1 itsdangerous-2.2.0 jinja2-3.1.6 markupsafe-3.0.2 werkzeug-3.1.3\n"
     ]
    }
   ],
   "source": [
    "!pip install -r requirements.txt   "
   ]
  },
  {
   "cell_type": "code",
   "execution_count": null,
   "id": "271f609d",
   "metadata": {},
   "outputs": [],
   "source": []
  },
  {
   "cell_type": "code",
   "execution_count": null,
   "id": "71a63a24",
   "metadata": {},
   "outputs": [],
   "source": []
  },
  {
   "cell_type": "code",
   "execution_count": 17,
   "id": "1188e5ef",
   "metadata": {},
   "outputs": [
    {
     "name": "stdout",
     "output_type": "stream",
     "text": [
      "number : 0\n",
      "letter : K\n",
      "number : 1\n",
      "letter : A\n",
      "number : 4\n",
      "letter : R\n",
      "number : 9\n",
      "letter : T\n",
      "number : 16\n",
      "letter : I\n",
      "number : 25\n",
      "letter : K\n",
      "The finished time is 6.0025794506073\n"
     ]
    }
   ],
   "source": [
    "def sqrt():\n",
    "    for i in range(6):\n",
    "        time.sleep(1)\n",
    "        print(f\"number : {i**2}\")\n",
    "    \n",
    "def letter():\n",
    "    for i in \"kartik\":\n",
    "        time.sleep(1)\n",
    "        print(f\"letter : {i.upper()}\")\n",
    "   \n",
    "t=time.time() \n",
    "t1=threading.Thread(target=sqrt)\n",
    "t2=threading.Thread(target=letter)\n",
    "t1.start()\n",
    "t2.start()\n",
    "\n",
    "t1.join()\n",
    "t2.join()\n",
    "finished_time=time.time()-t\n",
    "print(f\"The finished time is {finished_time}\")"
   ]
  },
  {
   "cell_type": "code",
   "execution_count": 19,
   "id": "6fdbccc5",
   "metadata": {},
   "outputs": [
    {
     "name": "stdout",
     "output_type": "stream",
     "text": [
      "number : 0\n",
      "letter : K\n",
      "number : 1\n",
      "letter : A\n",
      "number : 4\n",
      "letter : R\n",
      "number : 9\n",
      "letter : T\n",
      "number : 16letter : I\n",
      "\n",
      "number : 25letter : K\n",
      "\n",
      "the process time is 6.03\n"
     ]
    }
   ],
   "source": [
    "import multiprocessing\n",
    "if __name__==\"__main__\":\n",
    "    p1=multiprocessing.Process(target=sqrt)\n",
    "    p2=multiprocessing.Process(target=letter)\n",
    "    ha=time.time()\n",
    "    p1.start()\n",
    "    p2.start()\n",
    "    \n",
    "    p1.join()\n",
    "    p2.join()\n",
    "    fin=time.time()-ha\n",
    "    print(f\"the process time is {fin:.2f}\")"
   ]
  },
  {
   "cell_type": "code",
   "execution_count": null,
   "id": "3d1aefe6",
   "metadata": {},
   "outputs": [
    {
     "name": "stdout",
     "output_type": "stream",
     "text": [
      "1\n",
      "2\n",
      "3\n",
      "4\n",
      "5\n",
      "6\n",
      "7\n",
      "8\n",
      "9\n",
      "10\n",
      "11\n",
      "12\n",
      "13\n",
      "14\n",
      "15\n",
      "16\n",
      "17\n",
      "18\n",
      "19\n",
      "20\n"
     ]
    }
   ],
   "source": [
    "from concurrent.futures import ThreadPoolExecutor,ProcessPoolExecutor\n",
    "\n",
    "def name(nam):\n",
    "    time.sleep(2)\n",
    "    return f\"{nam}\"\n",
    "\n",
    "number=[1,2,3,4,5,6,7,8,9,10,11,12,13,14,15,16,17,18,19,20]\n",
    "\n",
    "with ThreadPoolExecutor(max_workers=40) as executor:\n",
    "    results=executor.map(name,number)\n",
    "    \n",
    "for result in results:\n",
    "    print(result)"
   ]
  },
  {
   "cell_type": "code",
   "execution_count": null,
   "id": "54c9fd7d",
   "metadata": {},
   "outputs": [
    {
     "name": "stdout",
     "output_type": "stream",
     "text": [
      "square: 1\n",
      "square: 4\n",
      "square: 9\n",
      "square: 16\n",
      "square: 25\n",
      "square: 36\n",
      "square: 49\n",
      "square: 64\n",
      "square: 81\n",
      "square: 100\n",
      "square: 121\n",
      "square: 144\n",
      "square: 169\n",
      "square: 196\n",
      "square: 225\n",
      "square: 256\n",
      "square: 289\n",
      "square: 324\n",
      "square: 361\n",
      "square: 400\n"
     ]
    }
   ],
   "source": [
    "def aura(num):\n",
    "    time.sleep(2)\n",
    "    return f\"square: {num*num}\"\n",
    "\n",
    "with ProcessPoolExecutor(max_workers=100) as  executor:\n",
    "    results=executor.map(aura,number)\n",
    "\n",
    "for result in results:\n",
    "    print(result)\n",
    "\n",
    "        "
   ]
  },
  {
   "cell_type": "code",
   "execution_count": 1,
   "id": "0fbdf3b2",
   "metadata": {},
   "outputs": [
    {
     "data": {
      "text/plain": [
       "'2.2.3'"
      ]
     },
     "execution_count": 1,
     "metadata": {},
     "output_type": "execute_result"
    }
   ],
   "source": [
    "import pandas as pd\n",
    "pd.__version__\n"
   ]
  },
  {
   "cell_type": "code",
   "execution_count": 3,
   "id": "7b6c9082",
   "metadata": {},
   "outputs": [
    {
     "data": {
      "text/plain": [
       "10    1\n",
       "20    2\n",
       "30    3\n",
       "40    4\n",
       "50    5\n",
       "60    6\n",
       "70    7\n",
       "80    8\n",
       "90    9\n",
       "dtype: int64"
      ]
     },
     "execution_count": 3,
     "metadata": {},
     "output_type": "execute_result"
    }
   ],
   "source": [
    "list=[1,2,3,4,5,6,7,8,9]\n",
    "pd.Series(list,index=(i for i in range(10,100,10)))"
   ]
  },
  {
   "cell_type": "code",
   "execution_count": 19,
   "id": "5851b64c",
   "metadata": {},
   "outputs": [],
   "source": [
    "data = {\n",
    "    \"department\": [\"HR\", \"Finance\", \"HR\", \"IT\", \"Finance\", \"IT\", \"HR\"],\n",
    "    \"employee\": [\"Alice\", \"Bob\", \"Charlie\", \"David\", \"Eve\", \"Frank\", \"Grace\"],\n",
    "    \"salary\": [50000, 60000, 55000, 70000, 65000, 72000, 53000],\n",
    "    \"age\": [25, 30, 28, 35, 40, 38, 27]\n",
    "}\n",
    "def square(x):\n",
    "    return x.max() - x.min()  \n",
    "df=pd.DataFrame(data)\n",
    "# df.groupby(\"department\")['salary'].agg(square)\n",
    "# df.groupby([\"department\",'employee'])[\"salary\"].sum()"
   ]
  },
  {
   "cell_type": "code",
   "execution_count": null,
   "id": "7bc16403",
   "metadata": {},
   "outputs": [
    {
     "data": {
      "text/html": [
       "<div>\n",
       "<style scoped>\n",
       "    .dataframe tbody tr th:only-of-type {\n",
       "        vertical-align: middle;\n",
       "    }\n",
       "\n",
       "    .dataframe tbody tr th {\n",
       "        vertical-align: top;\n",
       "    }\n",
       "\n",
       "    .dataframe thead th {\n",
       "        text-align: right;\n",
       "    }\n",
       "</style>\n",
       "<table border=\"1\" class=\"dataframe\">\n",
       "  <thead>\n",
       "    <tr style=\"text-align: right;\">\n",
       "      <th></th>\n",
       "      <th>avg_salary</th>\n",
       "      <th>salary_range</th>\n",
       "    </tr>\n",
       "    <tr>\n",
       "      <th>department</th>\n",
       "      <th></th>\n",
       "      <th></th>\n",
       "    </tr>\n",
       "  </thead>\n",
       "  <tbody>\n",
       "    <tr>\n",
       "      <th>Finance</th>\n",
       "      <td>62500.000000</td>\n",
       "      <td>5000</td>\n",
       "    </tr>\n",
       "    <tr>\n",
       "      <th>HR</th>\n",
       "      <td>52666.666667</td>\n",
       "      <td>5000</td>\n",
       "    </tr>\n",
       "    <tr>\n",
       "      <th>IT</th>\n",
       "      <td>71000.000000</td>\n",
       "      <td>2000</td>\n",
       "    </tr>\n",
       "  </tbody>\n",
       "</table>\n",
       "</div>"
      ],
      "text/plain": [
       "              avg_salary  salary_range\n",
       "department                            \n",
       "Finance     62500.000000          5000\n",
       "HR          52666.666667          5000\n",
       "IT          71000.000000          2000"
      ]
     },
     "execution_count": 14,
     "metadata": {},
     "output_type": "execute_result"
    }
   ],
   "source": [
    "df.groupby(\"department\").agg(\n",
    "    avg_salary=(\"salary\",\"mean\"),\n",
    "    salary_range=(\"salary\",square)\n",
    ")"
   ]
  },
  {
   "cell_type": "code",
   "execution_count": 23,
   "id": "baf482c8",
   "metadata": {},
   "outputs": [
    {
     "data": {
      "text/html": [
       "<div>\n",
       "<style scoped>\n",
       "    .dataframe tbody tr th:only-of-type {\n",
       "        vertical-align: middle;\n",
       "    }\n",
       "\n",
       "    .dataframe tbody tr th {\n",
       "        vertical-align: top;\n",
       "    }\n",
       "\n",
       "    .dataframe thead th {\n",
       "        text-align: right;\n",
       "    }\n",
       "</style>\n",
       "<table border=\"1\" class=\"dataframe\">\n",
       "  <thead>\n",
       "    <tr style=\"text-align: right;\">\n",
       "      <th></th>\n",
       "      <th>department</th>\n",
       "      <th>employee</th>\n",
       "      <th>salary</th>\n",
       "      <th>age</th>\n",
       "    </tr>\n",
       "  </thead>\n",
       "  <tbody>\n",
       "    <tr>\n",
       "      <th>1</th>\n",
       "      <td>Finance</td>\n",
       "      <td>Bob</td>\n",
       "      <td>60000</td>\n",
       "      <td>30</td>\n",
       "    </tr>\n",
       "    <tr>\n",
       "      <th>3</th>\n",
       "      <td>IT</td>\n",
       "      <td>David</td>\n",
       "      <td>70000</td>\n",
       "      <td>35</td>\n",
       "    </tr>\n",
       "    <tr>\n",
       "      <th>4</th>\n",
       "      <td>Finance</td>\n",
       "      <td>Eve</td>\n",
       "      <td>65000</td>\n",
       "      <td>40</td>\n",
       "    </tr>\n",
       "    <tr>\n",
       "      <th>5</th>\n",
       "      <td>IT</td>\n",
       "      <td>Frank</td>\n",
       "      <td>72000</td>\n",
       "      <td>38</td>\n",
       "    </tr>\n",
       "  </tbody>\n",
       "</table>\n",
       "</div>"
      ],
      "text/plain": [
       "  department employee  salary  age\n",
       "1    Finance      Bob   60000   30\n",
       "3         IT    David   70000   35\n",
       "4    Finance      Eve   65000   40\n",
       "5         IT    Frank   72000   38"
      ]
     },
     "execution_count": 23,
     "metadata": {},
     "output_type": "execute_result"
    }
   ],
   "source": [
    "df.groupby(\"department\").filter(lambda x : x[\"salary\"].mean() > 60000)  \n"
   ]
  },
  {
   "cell_type": "code",
   "execution_count": null,
   "id": "3d0fbed9",
   "metadata": {},
   "outputs": [
    {
     "ename": "KeyError",
     "evalue": "'Requested level (age) does not match index name (None)'",
     "output_type": "error",
     "traceback": [
      "\u001b[31m---------------------------------------------------------------------------\u001b[39m",
      "\u001b[31mKeyError\u001b[39m                                  Traceback (most recent call last)",
      "\u001b[36mCell\u001b[39m\u001b[36m \u001b[39m\u001b[32mIn[25]\u001b[39m\u001b[32m, line 1\u001b[39m\n\u001b[32m----> \u001b[39m\u001b[32m1\u001b[39m \u001b[43mdf\u001b[49m\u001b[43m.\u001b[49m\u001b[43mstack\u001b[49m\u001b[43m(\u001b[49m\u001b[33;43m\"\u001b[39;49m\u001b[33;43mage\u001b[39;49m\u001b[33;43m\"\u001b[39;49m\u001b[43m)\u001b[49m\n",
      "\u001b[36mFile \u001b[39m\u001b[32m~/3_days/three/lib/python3.12/site-packages/pandas/core/frame.py:9700\u001b[39m, in \u001b[36mDataFrame.stack\u001b[39m\u001b[34m(self, level, dropna, sort, future_stack)\u001b[39m\n\u001b[32m   9698\u001b[39m         result = stack_multiple(\u001b[38;5;28mself\u001b[39m, level, dropna=dropna, sort=sort)\n\u001b[32m   9699\u001b[39m     \u001b[38;5;28;01melse\u001b[39;00m:\n\u001b[32m-> \u001b[39m\u001b[32m9700\u001b[39m         result = \u001b[43mstack\u001b[49m\u001b[43m(\u001b[49m\u001b[38;5;28;43mself\u001b[39;49m\u001b[43m,\u001b[49m\u001b[43m \u001b[49m\u001b[43mlevel\u001b[49m\u001b[43m,\u001b[49m\u001b[43m \u001b[49m\u001b[43mdropna\u001b[49m\u001b[43m=\u001b[49m\u001b[43mdropna\u001b[49m\u001b[43m,\u001b[49m\u001b[43m \u001b[49m\u001b[43msort\u001b[49m\u001b[43m=\u001b[49m\u001b[43msort\u001b[49m\u001b[43m)\u001b[49m\n\u001b[32m   9701\u001b[39m \u001b[38;5;28;01melse\u001b[39;00m:\n\u001b[32m   9702\u001b[39m     \u001b[38;5;28;01mfrom\u001b[39;00m\u001b[38;5;250m \u001b[39m\u001b[34;01mpandas\u001b[39;00m\u001b[34;01m.\u001b[39;00m\u001b[34;01mcore\u001b[39;00m\u001b[34;01m.\u001b[39;00m\u001b[34;01mreshape\u001b[39;00m\u001b[34;01m.\u001b[39;00m\u001b[34;01mreshape\u001b[39;00m\u001b[38;5;250m \u001b[39m\u001b[38;5;28;01mimport\u001b[39;00m stack_v3\n",
      "\u001b[36mFile \u001b[39m\u001b[32m~/3_days/three/lib/python3.12/site-packages/pandas/core/reshape/reshape.py:598\u001b[39m, in \u001b[36mstack\u001b[39m\u001b[34m(frame, level, dropna, sort)\u001b[39m\n\u001b[32m    595\u001b[39m N, K = frame.shape\n\u001b[32m    597\u001b[39m \u001b[38;5;66;03m# Will also convert negative level numbers and check if out of bounds.\u001b[39;00m\n\u001b[32m--> \u001b[39m\u001b[32m598\u001b[39m level_num = \u001b[43mframe\u001b[49m\u001b[43m.\u001b[49m\u001b[43mcolumns\u001b[49m\u001b[43m.\u001b[49m\u001b[43m_get_level_number\u001b[49m\u001b[43m(\u001b[49m\u001b[43mlevel\u001b[49m\u001b[43m)\u001b[49m\n\u001b[32m    600\u001b[39m \u001b[38;5;28;01mif\u001b[39;00m \u001b[38;5;28misinstance\u001b[39m(frame.columns, MultiIndex):\n\u001b[32m    601\u001b[39m     \u001b[38;5;28;01mreturn\u001b[39;00m _stack_multi_columns(\n\u001b[32m    602\u001b[39m         frame, level_num=level_num, dropna=dropna, sort=sort\n\u001b[32m    603\u001b[39m     )\n",
      "\u001b[36mFile \u001b[39m\u001b[32m~/3_days/three/lib/python3.12/site-packages/pandas/core/indexes/base.py:2017\u001b[39m, in \u001b[36mIndex._get_level_number\u001b[39m\u001b[34m(self, level)\u001b[39m\n\u001b[32m   2016\u001b[39m \u001b[38;5;28;01mdef\u001b[39;00m\u001b[38;5;250m \u001b[39m\u001b[34m_get_level_number\u001b[39m(\u001b[38;5;28mself\u001b[39m, level) -> \u001b[38;5;28mint\u001b[39m:\n\u001b[32m-> \u001b[39m\u001b[32m2017\u001b[39m     \u001b[38;5;28;43mself\u001b[39;49m\u001b[43m.\u001b[49m\u001b[43m_validate_index_level\u001b[49m\u001b[43m(\u001b[49m\u001b[43mlevel\u001b[49m\u001b[43m)\u001b[49m\n\u001b[32m   2018\u001b[39m     \u001b[38;5;28;01mreturn\u001b[39;00m \u001b[32m0\u001b[39m\n",
      "\u001b[36mFile \u001b[39m\u001b[32m~/3_days/three/lib/python3.12/site-packages/pandas/core/indexes/base.py:2012\u001b[39m, in \u001b[36mIndex._validate_index_level\u001b[39m\u001b[34m(self, level)\u001b[39m\n\u001b[32m   2008\u001b[39m         \u001b[38;5;28;01mraise\u001b[39;00m \u001b[38;5;167;01mIndexError\u001b[39;00m(\n\u001b[32m   2009\u001b[39m             \u001b[33mf\u001b[39m\u001b[33m\"\u001b[39m\u001b[33mToo many levels: Index has only 1 level, not \u001b[39m\u001b[38;5;132;01m{\u001b[39;00mlevel\u001b[38;5;250m \u001b[39m+\u001b[38;5;250m \u001b[39m\u001b[32m1\u001b[39m\u001b[38;5;132;01m}\u001b[39;00m\u001b[33m\"\u001b[39m\n\u001b[32m   2010\u001b[39m         )\n\u001b[32m   2011\u001b[39m \u001b[38;5;28;01melif\u001b[39;00m level != \u001b[38;5;28mself\u001b[39m.name:\n\u001b[32m-> \u001b[39m\u001b[32m2012\u001b[39m     \u001b[38;5;28;01mraise\u001b[39;00m \u001b[38;5;167;01mKeyError\u001b[39;00m(\n\u001b[32m   2013\u001b[39m         \u001b[33mf\u001b[39m\u001b[33m\"\u001b[39m\u001b[33mRequested level (\u001b[39m\u001b[38;5;132;01m{\u001b[39;00mlevel\u001b[38;5;132;01m}\u001b[39;00m\u001b[33m) does not match index name (\u001b[39m\u001b[38;5;132;01m{\u001b[39;00m\u001b[38;5;28mself\u001b[39m.name\u001b[38;5;132;01m}\u001b[39;00m\u001b[33m)\u001b[39m\u001b[33m\"\u001b[39m\n\u001b[32m   2014\u001b[39m     )\n",
      "\u001b[31mKeyError\u001b[39m: 'Requested level (age) does not match index name (None)'"
     ]
    }
   ],
   "source": [
    "df.stack()"
   ]
  }
 ],
 "metadata": {
  "kernelspec": {
   "display_name": "three",
   "language": "python",
   "name": "python3"
  },
  "language_info": {
   "codemirror_mode": {
    "name": "ipython",
    "version": 3
   },
   "file_extension": ".py",
   "mimetype": "text/x-python",
   "name": "python",
   "nbconvert_exporter": "python",
   "pygments_lexer": "ipython3",
   "version": "3.12.3"
  }
 },
 "nbformat": 4,
 "nbformat_minor": 5
}
