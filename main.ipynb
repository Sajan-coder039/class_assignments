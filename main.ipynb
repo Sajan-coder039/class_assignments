{
 "cells": [
  {
   "cell_type": "code",
   "execution_count": 1,
   "id": "55b27878",
   "metadata": {},
   "outputs": [],
   "source": [
    "import time\n",
    "import threading"
   ]
  },
  {
   "cell_type": "code",
   "execution_count": null,
   "id": "2f01c382",
   "metadata": {},
   "outputs": [],
   "source": [
    "import threading\n",
    "import requests\n",
    "from bs4 import BeautifulSoup\n",
    "\n",
    "urls=[\n",
    "\"https://en.wikipedia.org/wiki/Main_Page\",\n",
    "\"https://en.wikipedia.org/wiki/Artificial_intelligence\",\n",
    "\"https://en.wikipedia.org/wiki/Nepal\"]\n",
    "\n",
    "\n",
    "def fetch(urle):\n",
    "    response=requests.get(url=urle)\n",
    "    soup=BeautifulSoup(response.content,\"html.parser\")\n",
    "    print(f\"the fetched data length : {len(soup.text)} from {urle}\")\n",
    "\n",
    "threads=[]\n",
    "\n",
    "for url in urls:\n",
    "    thread=threading.Thread(target=fetch)\n",
    "    threads.append(thread)\n",
    "    thread.start()\n",
    "\n",
    "for thread in threads:\n",
    "    thread.join()\n",
    "\n",
    "print(f\"all web pages have been parsed ??\")\n",
    "    "
   ]
  },
  {
   "cell_type": "code",
   "execution_count": 1,
   "id": "238cf962",
   "metadata": {},
   "outputs": [
    {
     "name": "stdout",
     "output_type": "stream",
     "text": [
      "Requirement already satisfied: ipykernel in ./three/lib/python3.12/site-packages (from -r requirements.txt (line 1)) (6.29.5)\n",
      "Requirement already satisfied: bs4 in ./three/lib/python3.12/site-packages (from -r requirements.txt (line 2)) (0.0.2)\n",
      "Requirement already satisfied: requests in ./three/lib/python3.12/site-packages (from -r requirements.txt (line 3)) (2.32.3)\n",
      "Collecting flask (from -r requirements.txt (line 4))\n",
      "  Downloading flask-3.1.1-py3-none-any.whl.metadata (3.0 kB)\n",
      "Requirement already satisfied: comm>=0.1.1 in ./three/lib/python3.12/site-packages (from ipykernel->-r requirements.txt (line 1)) (0.2.2)\n",
      "Requirement already satisfied: debugpy>=1.6.5 in ./three/lib/python3.12/site-packages (from ipykernel->-r requirements.txt (line 1)) (1.8.14)\n",
      "Requirement already satisfied: ipython>=7.23.1 in ./three/lib/python3.12/site-packages (from ipykernel->-r requirements.txt (line 1)) (9.2.0)\n",
      "Requirement already satisfied: jupyter-client>=6.1.12 in ./three/lib/python3.12/site-packages (from ipykernel->-r requirements.txt (line 1)) (8.6.3)\n",
      "Requirement already satisfied: jupyter-core!=5.0.*,>=4.12 in ./three/lib/python3.12/site-packages (from ipykernel->-r requirements.txt (line 1)) (5.7.2)\n",
      "Requirement already satisfied: matplotlib-inline>=0.1 in ./three/lib/python3.12/site-packages (from ipykernel->-r requirements.txt (line 1)) (0.1.7)\n",
      "Requirement already satisfied: nest-asyncio in ./three/lib/python3.12/site-packages (from ipykernel->-r requirements.txt (line 1)) (1.6.0)\n",
      "Requirement already satisfied: packaging in ./three/lib/python3.12/site-packages (from ipykernel->-r requirements.txt (line 1)) (25.0)\n",
      "Requirement already satisfied: psutil in ./three/lib/python3.12/site-packages (from ipykernel->-r requirements.txt (line 1)) (7.0.0)\n",
      "Requirement already satisfied: pyzmq>=24 in ./three/lib/python3.12/site-packages (from ipykernel->-r requirements.txt (line 1)) (26.4.0)\n",
      "Requirement already satisfied: tornado>=6.1 in ./three/lib/python3.12/site-packages (from ipykernel->-r requirements.txt (line 1)) (6.5)\n",
      "Requirement already satisfied: traitlets>=5.4.0 in ./three/lib/python3.12/site-packages (from ipykernel->-r requirements.txt (line 1)) (5.14.3)\n",
      "Requirement already satisfied: beautifulsoup4 in ./three/lib/python3.12/site-packages (from bs4->-r requirements.txt (line 2)) (4.13.4)\n",
      "Requirement already satisfied: charset-normalizer<4,>=2 in ./three/lib/python3.12/site-packages (from requests->-r requirements.txt (line 3)) (3.4.2)\n",
      "Requirement already satisfied: idna<4,>=2.5 in ./three/lib/python3.12/site-packages (from requests->-r requirements.txt (line 3)) (3.10)\n",
      "Requirement already satisfied: urllib3<3,>=1.21.1 in ./three/lib/python3.12/site-packages (from requests->-r requirements.txt (line 3)) (2.4.0)\n",
      "Requirement already satisfied: certifi>=2017.4.17 in ./three/lib/python3.12/site-packages (from requests->-r requirements.txt (line 3)) (2025.4.26)\n",
      "Collecting blinker>=1.9.0 (from flask->-r requirements.txt (line 4))\n",
      "  Using cached blinker-1.9.0-py3-none-any.whl.metadata (1.6 kB)\n",
      "Collecting click>=8.1.3 (from flask->-r requirements.txt (line 4))\n",
      "  Downloading click-8.2.1-py3-none-any.whl.metadata (2.5 kB)\n",
      "Collecting itsdangerous>=2.2.0 (from flask->-r requirements.txt (line 4))\n",
      "  Using cached itsdangerous-2.2.0-py3-none-any.whl.metadata (1.9 kB)\n",
      "Collecting jinja2>=3.1.2 (from flask->-r requirements.txt (line 4))\n",
      "  Using cached jinja2-3.1.6-py3-none-any.whl.metadata (2.9 kB)\n",
      "Collecting markupsafe>=2.1.1 (from flask->-r requirements.txt (line 4))\n",
      "  Using cached MarkupSafe-3.0.2-cp312-cp312-manylinux_2_17_x86_64.manylinux2014_x86_64.whl.metadata (4.0 kB)\n",
      "Collecting werkzeug>=3.1.0 (from flask->-r requirements.txt (line 4))\n",
      "  Using cached werkzeug-3.1.3-py3-none-any.whl.metadata (3.7 kB)\n",
      "Requirement already satisfied: decorator in ./three/lib/python3.12/site-packages (from ipython>=7.23.1->ipykernel->-r requirements.txt (line 1)) (5.2.1)\n",
      "Requirement already satisfied: ipython-pygments-lexers in ./three/lib/python3.12/site-packages (from ipython>=7.23.1->ipykernel->-r requirements.txt (line 1)) (1.1.1)\n",
      "Requirement already satisfied: jedi>=0.16 in ./three/lib/python3.12/site-packages (from ipython>=7.23.1->ipykernel->-r requirements.txt (line 1)) (0.19.2)\n",
      "Requirement already satisfied: pexpect>4.3 in ./three/lib/python3.12/site-packages (from ipython>=7.23.1->ipykernel->-r requirements.txt (line 1)) (4.9.0)\n",
      "Requirement already satisfied: prompt_toolkit<3.1.0,>=3.0.41 in ./three/lib/python3.12/site-packages (from ipython>=7.23.1->ipykernel->-r requirements.txt (line 1)) (3.0.51)\n",
      "Requirement already satisfied: pygments>=2.4.0 in ./three/lib/python3.12/site-packages (from ipython>=7.23.1->ipykernel->-r requirements.txt (line 1)) (2.19.1)\n",
      "Requirement already satisfied: stack_data in ./three/lib/python3.12/site-packages (from ipython>=7.23.1->ipykernel->-r requirements.txt (line 1)) (0.6.3)\n",
      "Requirement already satisfied: python-dateutil>=2.8.2 in ./three/lib/python3.12/site-packages (from jupyter-client>=6.1.12->ipykernel->-r requirements.txt (line 1)) (2.9.0.post0)\n",
      "Requirement already satisfied: platformdirs>=2.5 in ./three/lib/python3.12/site-packages (from jupyter-core!=5.0.*,>=4.12->ipykernel->-r requirements.txt (line 1)) (4.3.8)\n",
      "Requirement already satisfied: soupsieve>1.2 in ./three/lib/python3.12/site-packages (from beautifulsoup4->bs4->-r requirements.txt (line 2)) (2.7)\n",
      "Requirement already satisfied: typing-extensions>=4.0.0 in ./three/lib/python3.12/site-packages (from beautifulsoup4->bs4->-r requirements.txt (line 2)) (4.13.2)\n",
      "Requirement already satisfied: parso<0.9.0,>=0.8.4 in ./three/lib/python3.12/site-packages (from jedi>=0.16->ipython>=7.23.1->ipykernel->-r requirements.txt (line 1)) (0.8.4)\n",
      "Requirement already satisfied: ptyprocess>=0.5 in ./three/lib/python3.12/site-packages (from pexpect>4.3->ipython>=7.23.1->ipykernel->-r requirements.txt (line 1)) (0.7.0)\n",
      "Requirement already satisfied: wcwidth in ./three/lib/python3.12/site-packages (from prompt_toolkit<3.1.0,>=3.0.41->ipython>=7.23.1->ipykernel->-r requirements.txt (line 1)) (0.2.13)\n",
      "Requirement already satisfied: six>=1.5 in ./three/lib/python3.12/site-packages (from python-dateutil>=2.8.2->jupyter-client>=6.1.12->ipykernel->-r requirements.txt (line 1)) (1.17.0)\n",
      "Requirement already satisfied: executing>=1.2.0 in ./three/lib/python3.12/site-packages (from stack_data->ipython>=7.23.1->ipykernel->-r requirements.txt (line 1)) (2.2.0)\n",
      "Requirement already satisfied: asttokens>=2.1.0 in ./three/lib/python3.12/site-packages (from stack_data->ipython>=7.23.1->ipykernel->-r requirements.txt (line 1)) (3.0.0)\n",
      "Requirement already satisfied: pure-eval in ./three/lib/python3.12/site-packages (from stack_data->ipython>=7.23.1->ipykernel->-r requirements.txt (line 1)) (0.2.3)\n",
      "Downloading flask-3.1.1-py3-none-any.whl (103 kB)\n",
      "\u001b[2K   \u001b[90m━━━━━━━━━━━━━━━━━━━━━━━━━━━━━━━━━━━━━━━\u001b[0m \u001b[32m103.3/103.3 kB\u001b[0m \u001b[31m371.7 kB/s\u001b[0m eta \u001b[36m0:00:00\u001b[0ma \u001b[36m0:00:01\u001b[0m\n",
      "\u001b[?25hUsing cached blinker-1.9.0-py3-none-any.whl (8.5 kB)\n",
      "Downloading click-8.2.1-py3-none-any.whl (102 kB)\n",
      "\u001b[2K   \u001b[90m━━━━━━━━━━━━━━━━━━━━━━━━━━━━━━━━━━━━━━━━\u001b[0m \u001b[32m102.2/102.2 kB\u001b[0m \u001b[31m63.5 kB/s\u001b[0m eta \u001b[36m0:00:00\u001b[0m \u001b[36m0:00:01\u001b[0m\n",
      "\u001b[?25hUsing cached itsdangerous-2.2.0-py3-none-any.whl (16 kB)\n",
      "Using cached jinja2-3.1.6-py3-none-any.whl (134 kB)\n",
      "Using cached MarkupSafe-3.0.2-cp312-cp312-manylinux_2_17_x86_64.manylinux2014_x86_64.whl (23 kB)\n",
      "Using cached werkzeug-3.1.3-py3-none-any.whl (224 kB)\n",
      "Installing collected packages: markupsafe, itsdangerous, click, blinker, werkzeug, jinja2, flask\n",
      "Successfully installed blinker-1.9.0 click-8.2.1 flask-3.1.1 itsdangerous-2.2.0 jinja2-3.1.6 markupsafe-3.0.2 werkzeug-3.1.3\n"
     ]
    }
   ],
   "source": [
    "!pip install -r requirements.txt   "
   ]
  },
  {
   "cell_type": "code",
   "execution_count": null,
   "id": "271f609d",
   "metadata": {},
   "outputs": [],
   "source": []
  },
  {
   "cell_type": "code",
   "execution_count": null,
   "id": "71a63a24",
   "metadata": {},
   "outputs": [],
   "source": []
  },
  {
   "cell_type": "code",
   "execution_count": 17,
   "id": "1188e5ef",
   "metadata": {},
   "outputs": [
    {
     "name": "stdout",
     "output_type": "stream",
     "text": [
      "number : 0\n",
      "letter : K\n",
      "number : 1\n",
      "letter : A\n",
      "number : 4\n",
      "letter : R\n",
      "number : 9\n",
      "letter : T\n",
      "number : 16\n",
      "letter : I\n",
      "number : 25\n",
      "letter : K\n",
      "The finished time is 6.0025794506073\n"
     ]
    }
   ],
   "source": [
    "def sqrt():\n",
    "    for i in range(6):\n",
    "        time.sleep(1)\n",
    "        print(f\"number : {i**2}\")\n",
    "    \n",
    "def letter():\n",
    "    for i in \"kartik\":\n",
    "        time.sleep(1)\n",
    "        print(f\"letter : {i.upper()}\")\n",
    "   \n",
    "t=time.time() \n",
    "t1=threading.Thread(target=sqrt)\n",
    "t2=threading.Thread(target=letter)\n",
    "t1.start()\n",
    "t2.start()\n",
    "\n",
    "t1.join()\n",
    "t2.join()\n",
    "finished_time=time.time()-t\n",
    "print(f\"The finished time is {finished_time}\")"
   ]
  },
  {
   "cell_type": "code",
   "execution_count": 19,
   "id": "6fdbccc5",
   "metadata": {},
   "outputs": [
    {
     "name": "stdout",
     "output_type": "stream",
     "text": [
      "number : 0\n",
      "letter : K\n",
      "number : 1\n",
      "letter : A\n",
      "number : 4\n",
      "letter : R\n",
      "number : 9\n",
      "letter : T\n",
      "number : 16letter : I\n",
      "\n",
      "number : 25letter : K\n",
      "\n",
      "the process time is 6.03\n"
     ]
    }
   ],
   "source": [
    "import multiprocessing\n",
    "if __name__==\"__main__\":\n",
    "    p1=multiprocessing.Process(target=sqrt)\n",
    "    p2=multiprocessing.Process(target=letter)\n",
    "    ha=time.time()\n",
    "    p1.start()\n",
    "    p2.start()\n",
    "    \n",
    "    p1.join()\n",
    "    p2.join()\n",
    "    fin=time.time()-ha\n",
    "    print(f\"the process time is {fin:.2f}\")"
   ]
  },
  {
   "cell_type": "code",
   "execution_count": null,
   "id": "3d1aefe6",
   "metadata": {},
   "outputs": [
    {
     "name": "stdout",
     "output_type": "stream",
     "text": [
      "1\n",
      "2\n",
      "3\n",
      "4\n",
      "5\n",
      "6\n",
      "7\n",
      "8\n",
      "9\n",
      "10\n",
      "11\n",
      "12\n",
      "13\n",
      "14\n",
      "15\n",
      "16\n",
      "17\n",
      "18\n",
      "19\n",
      "20\n"
     ]
    }
   ],
   "source": [
    "from concurrent.futures import ThreadPoolExecutor,ProcessPoolExecutor\n",
    "\n",
    "def name(nam):\n",
    "    time.sleep(2)\n",
    "    return f\"{nam}\"\n",
    "\n",
    "number=[1,2,3,4,5,6,7,8,9,10,11,12,13,14,15,16,17,18,19,20]\n",
    "\n",
    "with ThreadPoolExecutor(max_workers=40) as executor:\n",
    "    results=executor.map(name,number)\n",
    "    \n",
    "for result in results:\n",
    "    print(result)"
   ]
  },
  {
   "cell_type": "code",
   "execution_count": 28,
   "id": "54c9fd7d",
   "metadata": {},
   "outputs": [
    {
     "name": "stdout",
     "output_type": "stream",
     "text": [
      "square: 1\n",
      "square: 4\n",
      "square: 9\n",
      "square: 16\n",
      "square: 25\n",
      "square: 36\n",
      "square: 49\n",
      "square: 64\n",
      "square: 81\n",
      "square: 100\n",
      "square: 121\n",
      "square: 144\n",
      "square: 169\n",
      "square: 196\n",
      "square: 225\n",
      "square: 256\n",
      "square: 289\n",
      "square: 324\n",
      "square: 361\n",
      "square: 400\n"
     ]
    }
   ],
   "source": [
    "def aura(num):\n",
    "    time.sleep(2)\n",
    "    return f\"square: {num*num}\"\n",
    "\n",
    "with ProcessPoolExecutor(max_workers=100) as  executor:\n",
    "    results=executor.map(aura,number)\n",
    "\n",
    "for result in results:\n",
    "    print(result)\n",
    "        "
   ]
  }
 ],
 "metadata": {
  "kernelspec": {
   "display_name": "three",
   "language": "python",
   "name": "python3"
  },
  "language_info": {
   "codemirror_mode": {
    "name": "ipython",
    "version": 3
   },
   "file_extension": ".py",
   "mimetype": "text/x-python",
   "name": "python",
   "nbconvert_exporter": "python",
   "pygments_lexer": "ipython3",
   "version": "3.12.3"
  }
 },
 "nbformat": 4,
 "nbformat_minor": 5
}
